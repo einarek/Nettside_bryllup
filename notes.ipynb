{
 "cells": [
  {
   "cell_type": "markdown",
   "id": "22e2a4d3",
   "metadata": {},
   "source": [
    "<font size=\"5\">General</font>\n",
    "\n",
    "HTML is the bones of a web page.\n",
    "\n",
    "CSS is the skin/clothes — the appearance.\n",
    "\n",
    "JavaScript is the muscles and nerves — it lets the page move, respond, and do things.\n"
   ]
  },
  {
   "cell_type": "markdown",
   "id": "fa4a8ea4",
   "metadata": {},
   "source": [
    "<font size=\"5\">HTML</font>\n",
    "\n",
    "<!DOCTYPE html>\n",
    "<html lang=\"no\">                                                                          <!-- Norwegian as the language -->\n",
    "\n",
    "<head>                                                                                    <!-- contains metadata and resources that aren’t displayed directly on the web page -->\n",
    "    <meta charset=\"UTF-8\">                                                                <!-- Sets the character encoding to UTF-8, which supports most characters from all known languages. -->\n",
    "    <meta name=\"viewport\" content=\"width=device-width, initial-scale=1.0\">                <!-- Ensures the page is responsive by setting the viewport width to the device width and initial zoom to 1. -->\n",
    "    <title>Skill</title>                                                                  <!-- Sets the browser tab title -->\n",
    "    <link rel=\"stylesheet\" href=\"style.css\">                                              <!-- Links an external CSS file named style.css to style the HTML content -->\n",
    "</head>\n",
    "<body>                                                                                    <!-- contains everything that is displayed on the webpage -->\n",
    "    <nav class=\"navbar\">                                                                  <!-- tells the browser (and screen readers, search engines, etc.) that the content inside is a navigation menu—typically links to main sections of the website-->\n",
    "        <div class=\"navbar__container\">                                                   <!-- It’s a block-level container used to group elements together for styling or scripting (via CSS or JavaScript). -->\n",
    "            <a href=\"/\" id=\"navbar__logo\">NEXT</a>                                        <!-- It creates a hyperlink to another page, file, location on the same page, or even an email address. \"/\" is the homepage. Has an ID of navbar__logo (used for styling or JavaScript targeting). Displays the text \"NEXT\" -->\n",
    "        </div>\n",
    "    </nav>\n",
    "</body>\n",
    "</html>\n"
   ]
  }
 ],
 "metadata": {
  "language_info": {
   "name": "python"
  }
 },
 "nbformat": 4,
 "nbformat_minor": 5
}
